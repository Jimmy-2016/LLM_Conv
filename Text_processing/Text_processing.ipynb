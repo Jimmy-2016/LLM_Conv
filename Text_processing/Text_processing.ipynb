{
 "cells": [
  {
   "cell_type": "markdown",
   "metadata": {},
   "source": [
    "this is a notebook for text summerzation"
   ]
  },
  {
   "cell_type": "code",
   "execution_count": 2,
   "metadata": {},
   "outputs": [
    {
     "name": "stderr",
     "output_type": "stream",
     "text": [
      "/Users/jamalesmaily/Library/Python/3.8/lib/python/site-packages/tqdm/auto.py:21: TqdmWarning: IProgress not found. Please update jupyter and ipywidgets. See https://ipywidgets.readthedocs.io/en/stable/user_install.html\n",
      "  from .autonotebook import tqdm as notebook_tqdm\n"
     ]
    }
   ],
   "source": [
    "from transformers import pipeline\n"
   ]
  },
  {
   "cell_type": "code",
   "execution_count": 10,
   "metadata": {},
   "outputs": [
    {
     "name": "stderr",
     "output_type": "stream",
     "text": [
      "Your max_length is set to 20, but your input_length is only 12. Since this is a summarization task, where outputs shorter than the input are typically wanted, you might consider decreasing max_length manually, e.g. summarizer('...', max_length=6)\n"
     ]
    },
    {
     "name": "stdout",
     "output_type": "stream",
     "text": [
      "[{'summary_text': 'For best results, the input text should ideally be a few paragraphs long. Make sure'}, {'summary_text': 'My short input text goes here. For more information, visit my website.'}]\n"
     ]
    }
   ],
   "source": [
    "summarizer = pipeline(\"summarization\", model=\"facebook/bart-large-cnn\")\n",
    "\n",
    "# Input text you want to summarize\n",
    "text = [\n",
    "'''\n",
    "my long input text goes here. Make sure the input text is long enough for summarization. \n",
    "For best results, the input text should ideally be a few paragraphs long to see meaningful summarization.\n",
    "''',\n",
    "'''\n",
    "my short input text goes here.\n",
    "''',\n",
    "]\n",
    "\n",
    "# Generate the summary\n",
    "summary = summarizer(text, max_length=20, min_length=5, do_sample=False)\n",
    "\n",
    "# Print the summary\n",
    "print(summary)"
   ]
  },
  {
   "cell_type": "code",
   "execution_count": 14,
   "metadata": {},
   "outputs": [
    {
     "name": "stdout",
     "output_type": "stream",
     "text": [
      "[{'label': 'POSITIVE', 'score': 0.9934651255607605}]\n"
     ]
    }
   ],
   "source": [
    "# sentiment analysis\n",
    "from transformers import pipeline\n",
    "\n",
    "# Load the sentiment analysis pipeline\n",
    "sentiment_analyzer = pipeline(\"sentiment-analysis\", model=\"distilbert-base-uncased-finetuned-sst-2-english\")\n",
    "\n",
    "# Input text\n",
    "text = \"this is a ok sample text that I would use here to simply test the model output\"\n",
    "\n",
    "# Perform sentiment analysis\n",
    "sentiment = sentiment_analyzer(text)\n",
    "print(sentiment)"
   ]
  },
  {
   "cell_type": "code",
   "execution_count": 23,
   "metadata": {},
   "outputs": [
    {
     "name": "stderr",
     "output_type": "stream",
     "text": [
      "Setting `pad_token_id` to `eos_token_id`:None for open-end generation.\n"
     ]
    },
    {
     "name": "stdout",
     "output_type": "stream",
     "text": [
      "\n",
      "repharse the text for me, the text is about a lonely lion\n",
      "\n",
      "\n",
      "\n",
      "But the book is about the devil\n",
      "and the evil\n",
      "And if there's one thing you can do about it and it matters to me, it's an interesting book\n",
      "I would love to read. This is my book by William S. Smith\n",
      "This is a book about your brother John, the apostle, who had taken the lead in the journey to a new place and is now living as\n"
     ]
    }
   ],
   "source": [
    "# Load the text generation pipeline\n",
    "text_generator = pipeline(\"text-generation\", model=\"distilgpt2\")\n",
    "text = '''\n",
    "repharse the text for me, the text is about a lonely lion\n",
    "'''\n",
    "\n",
    "# Generate a paraphrased version\n",
    "paraphrased_text = text_generator(text, max_length=100, truncation=False, do_sample=True)\n",
    "print(paraphrased_text[0][\"generated_text\"])"
   ]
  },
  {
   "cell_type": "code",
   "execution_count": null,
   "metadata": {},
   "outputs": [],
   "source": []
  }
 ],
 "metadata": {
  "kernelspec": {
   "display_name": "Python 3.8.9 64-bit",
   "language": "python",
   "name": "python3"
  },
  "language_info": {
   "codemirror_mode": {
    "name": "ipython",
    "version": 3
   },
   "file_extension": ".py",
   "mimetype": "text/x-python",
   "name": "python",
   "nbconvert_exporter": "python",
   "pygments_lexer": "ipython3",
   "version": "3.8.9"
  },
  "vscode": {
   "interpreter": {
    "hash": "31f2aee4e71d21fbe5cf8b01ff0e069b9275f58929596ceb00d14d90e3e16cd6"
   }
  }
 },
 "nbformat": 4,
 "nbformat_minor": 2
}
